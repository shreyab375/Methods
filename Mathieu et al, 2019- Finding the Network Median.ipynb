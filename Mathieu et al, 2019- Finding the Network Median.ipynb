{
 "cells": [
  {
   "cell_type": "code",
   "execution_count": 1,
   "id": "fossil-formation",
   "metadata": {},
   "outputs": [],
   "source": [
    "import pandas as pd\n",
    "import matplotlib.pyplot as plt\n",
    "import numpy as np\n",
    "import mysql.connector"
   ]
  },
  {
   "cell_type": "code",
   "execution_count": 2,
   "id": "sustainable-works",
   "metadata": {},
   "outputs": [],
   "source": [
    "#connecting mysql to my database\n",
    "cnx = mysql.connector.connect(user='root',\n",
    "                              host='localhost', password ='Shreya@1994',\n",
    "                              database='data_silso_histo_duplicate', auth_plugin='mysql_native_password')"
   ]
  },
  {
   "cell_type": "code",
   "execution_count": 3,
   "id": "entire-omaha",
   "metadata": {},
   "outputs": [],
   "source": [
    "query = \"SELECT * FROM data WHERE DATE BETWEEN '1859-01-01' AND '1863-01-30'\"\n",
    "df_mysql = pd.read_sql(query,con = cnx)\n",
    "data = pd.DataFrame(df_mysql)"
   ]
  },
  {
   "cell_type": "code",
   "execution_count": 4,
   "id": "solved-butter",
   "metadata": {},
   "outputs": [],
   "source": [
    "query = \"SELECT * FROM observers\"\n",
    "df_mysql = pd.read_sql(query,con = cnx)\n",
    "data1 = pd.DataFrame(df_mysql)"
   ]
  },
  {
   "cell_type": "code",
   "execution_count": 5,
   "id": "alert-zoning",
   "metadata": {},
   "outputs": [],
   "source": [
    "#renaming the column ID for easy merging\n",
    "data1.rename(columns={'ID':'FK_OBSERVERS'},inplace=True)"
   ]
  },
  {
   "cell_type": "code",
   "execution_count": 6,
   "id": "alternate-luxury",
   "metadata": {},
   "outputs": [],
   "source": [
    "df1 = pd.merge(data,data1, on ='FK_OBSERVERS')"
   ]
  },
  {
   "cell_type": "code",
   "execution_count": 7,
   "id": "devoted-creature",
   "metadata": {},
   "outputs": [],
   "source": [
    "#converting the data types\n",
    "df1 = df1.astype({\"FK_OBSERVERS\": float,\"WOLF\": float})"
   ]
  },
  {
   "cell_type": "code",
   "execution_count": 8,
   "id": "quarterly-hygiene",
   "metadata": {},
   "outputs": [],
   "source": [
    "df1.rename(columns={'DATE':'Date'},inplace=True)\n",
    "df1 = df1.sort_values('Date')"
   ]
  },
  {
   "cell_type": "code",
   "execution_count": 9,
   "id": "simplified-tokyo",
   "metadata": {},
   "outputs": [],
   "source": [
    "df1.Date = pd.to_datetime(df1['Date'])"
   ]
  },
  {
   "cell_type": "code",
   "execution_count": 10,
   "id": "split-richards",
   "metadata": {},
   "outputs": [],
   "source": [
    "#creating a dictionary for each observer based on their ID\n",
    "dd = dict(tuple(df1.groupby('FK_OBSERVERS')))"
   ]
  },
  {
   "cell_type": "code",
   "execution_count": 11,
   "id": "logical-explanation",
   "metadata": {},
   "outputs": [],
   "source": [
    "#making a ist of all the observers\n",
    "obs1 = np.array(list(dd.keys()))"
   ]
  },
  {
   "cell_type": "code",
   "execution_count": 12,
   "id": "prostate-franchise",
   "metadata": {},
   "outputs": [
    {
     "data": {
      "text/plain": [
       "array([ 2.,  3., 17., 23., 29., 30., 31., 33., 34., 35., 36.])"
      ]
     },
     "execution_count": 12,
     "metadata": {},
     "output_type": "execute_result"
    }
   ],
   "source": [
    "obs1 #ID's of all the observer present"
   ]
  },
  {
   "cell_type": "code",
   "execution_count": 13,
   "id": "religious-track",
   "metadata": {},
   "outputs": [],
   "source": [
    "#creating a dataframe to hold all the observers data in each column\n",
    "mer = pd.DataFrame(columns = ['Date'])\n",
    "i=0\n",
    "for i in range(len(obs1)):\n",
    "   # print(obs1[i])\n",
    "    b = dd[obs1[i]]\n",
    "    b = pd.DataFrame(b)\n",
    "    alias = b.ALIAS.iloc[0]\n",
    "    temp = pd.DataFrame()\n",
    "    \n",
    "    temp[\"Date\"] = b.Date\n",
    "    temp[alias] = b.WOLF\n",
    "    mer  = pd.merge(temp,mer, on=\"Date\", how= 'outer')\n",
    "   "
   ]
  },
  {
   "cell_type": "code",
   "execution_count": 14,
   "id": "national-germany",
   "metadata": {
    "scrolled": true
   },
   "outputs": [
    {
     "data": {
      "text/html": [
       "<div>\n",
       "<style scoped>\n",
       "    .dataframe tbody tr th:only-of-type {\n",
       "        vertical-align: middle;\n",
       "    }\n",
       "\n",
       "    .dataframe tbody tr th {\n",
       "        vertical-align: top;\n",
       "    }\n",
       "\n",
       "    .dataframe thead th {\n",
       "        text-align: right;\n",
       "    }\n",
       "</style>\n",
       "<table border=\"1\" class=\"dataframe\">\n",
       "  <thead>\n",
       "    <tr style=\"text-align: right;\">\n",
       "      <th></th>\n",
       "      <th>Date</th>\n",
       "      <th>Carrington</th>\n",
       "      <th>Heis</th>\n",
       "      <th>Schott</th>\n",
       "      <th>Spörer</th>\n",
       "      <th>Franzenau</th>\n",
       "      <th>Airy</th>\n",
       "      <th>Jenzer</th>\n",
       "      <th>Schmidt</th>\n",
       "      <th>Schwabe</th>\n",
       "      <th>WOLF - P - M</th>\n",
       "      <th>WOLF - S - M</th>\n",
       "    </tr>\n",
       "  </thead>\n",
       "  <tbody>\n",
       "    <tr>\n",
       "      <th>0</th>\n",
       "      <td>1859-01-02</td>\n",
       "      <td>2152.0</td>\n",
       "      <td>NaN</td>\n",
       "      <td>NaN</td>\n",
       "      <td>NaN</td>\n",
       "      <td>NaN</td>\n",
       "      <td>NaN</td>\n",
       "      <td>NaN</td>\n",
       "      <td>NaN</td>\n",
       "      <td>NaN</td>\n",
       "      <td>NaN</td>\n",
       "      <td>88.0</td>\n",
       "    </tr>\n",
       "    <tr>\n",
       "      <th>1</th>\n",
       "      <td>1859-01-02</td>\n",
       "      <td>112.0</td>\n",
       "      <td>NaN</td>\n",
       "      <td>NaN</td>\n",
       "      <td>NaN</td>\n",
       "      <td>NaN</td>\n",
       "      <td>NaN</td>\n",
       "      <td>NaN</td>\n",
       "      <td>NaN</td>\n",
       "      <td>NaN</td>\n",
       "      <td>NaN</td>\n",
       "      <td>88.0</td>\n",
       "    </tr>\n",
       "    <tr>\n",
       "      <th>2</th>\n",
       "      <td>1859-01-09</td>\n",
       "      <td>2679.0</td>\n",
       "      <td>NaN</td>\n",
       "      <td>NaN</td>\n",
       "      <td>NaN</td>\n",
       "      <td>NaN</td>\n",
       "      <td>NaN</td>\n",
       "      <td>NaN</td>\n",
       "      <td>NaN</td>\n",
       "      <td>NaN</td>\n",
       "      <td>NaN</td>\n",
       "      <td>89.0</td>\n",
       "    </tr>\n",
       "    <tr>\n",
       "      <th>3</th>\n",
       "      <td>1859-01-09</td>\n",
       "      <td>82.0</td>\n",
       "      <td>NaN</td>\n",
       "      <td>NaN</td>\n",
       "      <td>NaN</td>\n",
       "      <td>NaN</td>\n",
       "      <td>NaN</td>\n",
       "      <td>NaN</td>\n",
       "      <td>NaN</td>\n",
       "      <td>NaN</td>\n",
       "      <td>NaN</td>\n",
       "      <td>89.0</td>\n",
       "    </tr>\n",
       "    <tr>\n",
       "      <th>4</th>\n",
       "      <td>1859-01-14</td>\n",
       "      <td>2808.0</td>\n",
       "      <td>NaN</td>\n",
       "      <td>NaN</td>\n",
       "      <td>NaN</td>\n",
       "      <td>NaN</td>\n",
       "      <td>NaN</td>\n",
       "      <td>NaN</td>\n",
       "      <td>NaN</td>\n",
       "      <td>NaN</td>\n",
       "      <td>NaN</td>\n",
       "      <td>80.0</td>\n",
       "    </tr>\n",
       "  </tbody>\n",
       "</table>\n",
       "</div>"
      ],
      "text/plain": [
       "        Date  Carrington  Heis  Schott  Spörer  Franzenau  Airy  Jenzer  \\\n",
       "0 1859-01-02      2152.0   NaN     NaN     NaN        NaN   NaN     NaN   \n",
       "1 1859-01-02       112.0   NaN     NaN     NaN        NaN   NaN     NaN   \n",
       "2 1859-01-09      2679.0   NaN     NaN     NaN        NaN   NaN     NaN   \n",
       "3 1859-01-09        82.0   NaN     NaN     NaN        NaN   NaN     NaN   \n",
       "4 1859-01-14      2808.0   NaN     NaN     NaN        NaN   NaN     NaN   \n",
       "\n",
       "   Schmidt  Schwabe  WOLF - P - M  WOLF - S - M  \n",
       "0      NaN      NaN           NaN          88.0  \n",
       "1      NaN      NaN           NaN          88.0  \n",
       "2      NaN      NaN           NaN          89.0  \n",
       "3      NaN      NaN           NaN          89.0  \n",
       "4      NaN      NaN           NaN          80.0  "
      ]
     },
     "execution_count": 14,
     "metadata": {},
     "output_type": "execute_result"
    }
   ],
   "source": [
    "mer.head() #this dataframe contains all the observers data as columns"
   ]
  },
  {
   "cell_type": "code",
   "execution_count": 15,
   "id": "medieval-audience",
   "metadata": {},
   "outputs": [],
   "source": [
    "df = mer #creating a temporary dataframe to work on without altering the original dataframe"
   ]
  },
  {
   "cell_type": "code",
   "execution_count": 16,
   "id": "cleared-brick",
   "metadata": {},
   "outputs": [],
   "source": [
    "df = pd.read_csv(r'C:\\Users\\ShreyaB\\Documents\\Mitteilungen\\data\\median_example.csv') #example dataset, comment it in case using the above process"
   ]
  },
  {
   "cell_type": "code",
   "execution_count": 17,
   "id": "intimate-share",
   "metadata": {},
   "outputs": [],
   "source": [
    "df= df.set_index('Date') #setting the date as index"
   ]
  },
  {
   "cell_type": "code",
   "execution_count": 18,
   "id": "acceptable-medicare",
   "metadata": {},
   "outputs": [
    {
     "data": {
      "text/html": [
       "<div>\n",
       "<style scoped>\n",
       "    .dataframe tbody tr th:only-of-type {\n",
       "        vertical-align: middle;\n",
       "    }\n",
       "\n",
       "    .dataframe tbody tr th {\n",
       "        vertical-align: top;\n",
       "    }\n",
       "\n",
       "    .dataframe thead th {\n",
       "        text-align: right;\n",
       "    }\n",
       "</style>\n",
       "<table border=\"1\" class=\"dataframe\">\n",
       "  <thead>\n",
       "    <tr style=\"text-align: right;\">\n",
       "      <th></th>\n",
       "      <th>wolf</th>\n",
       "      <th>SN</th>\n",
       "    </tr>\n",
       "    <tr>\n",
       "      <th>Date</th>\n",
       "      <th></th>\n",
       "      <th></th>\n",
       "    </tr>\n",
       "  </thead>\n",
       "  <tbody>\n",
       "    <tr>\n",
       "      <th>1825-11-05</th>\n",
       "      <td>NaN</td>\n",
       "      <td>11.0</td>\n",
       "    </tr>\n",
       "    <tr>\n",
       "      <th>1825-11-08</th>\n",
       "      <td>NaN</td>\n",
       "      <td>11.0</td>\n",
       "    </tr>\n",
       "    <tr>\n",
       "      <th>1825-11-09</th>\n",
       "      <td>NaN</td>\n",
       "      <td>11.0</td>\n",
       "    </tr>\n",
       "    <tr>\n",
       "      <th>1825-11-10</th>\n",
       "      <td>NaN</td>\n",
       "      <td>11.0</td>\n",
       "    </tr>\n",
       "    <tr>\n",
       "      <th>1825-11-11</th>\n",
       "      <td>NaN</td>\n",
       "      <td>11.0</td>\n",
       "    </tr>\n",
       "  </tbody>\n",
       "</table>\n",
       "</div>"
      ],
      "text/plain": [
       "            wolf    SN\n",
       "Date                  \n",
       "1825-11-05   NaN  11.0\n",
       "1825-11-08   NaN  11.0\n",
       "1825-11-09   NaN  11.0\n",
       "1825-11-10   NaN  11.0\n",
       "1825-11-11   NaN  11.0"
      ]
     },
     "execution_count": 18,
     "metadata": {},
     "output_type": "execute_result"
    }
   ],
   "source": [
    "df.head()"
   ]
  },
  {
   "cell_type": "code",
   "execution_count": 19,
   "id": "enhanced-diameter",
   "metadata": {},
   "outputs": [],
   "source": [
    "def compute_k_Median(df):\n",
    "    #intitalising few values\n",
    "    reject = 0\n",
    "    j=0\n",
    "    Catalog_info = pd.DataFrame() #all the k-factor information will be stored here\n",
    "    while(reject == 0):\n",
    "        #print(reject)\n",
    "        j=j+1\n",
    "        observers = df.columns\n",
    "        #condition to select only the observers name useful for next iterations\n",
    "        observers_1 = [col for col in observers if not (col.startswith('k_') or col == 'Median' or col == 'Std')]\n",
    "        #print(observers_1)\n",
    "        \n",
    "        #calculate the median\n",
    "        df[\"Median\"] = df[observers_1].mean(axis=1,skipna=True)\n",
    "        df_temp =pd.DataFrame(index = [j])\n",
    "        #calculate k_factors for each observer\n",
    "        for observer in observers_1:\n",
    "            df[\"k_\" + observer] = df[\"Median\"] / df[observer]\n",
    "            df[\"k_\" + observer]= df[\"k_\" + observer].replace([np.inf, -np.inf], np.nan)\n",
    "            df[\"k_\" + observer] = df[\"k_\" + observer].mean(axis=0)\n",
    "            df_temp[observer] = df[\"k_\" + observer].iloc[0]\n",
    "        Catalog_info=Catalog_info.append(df_temp) #storing the iteration number and k value for each observer\n",
    "        #print(df)\n",
    "\n",
    "        for observer in observers_1: #multiplying the observers with their respective k-factors\n",
    "            df[observer] = df[observer] * df[\"k_\" + observer]\n",
    "        #print(df)\n",
    "        df[\"k_Median\"] = df[observers_1].median(axis=1,skipna=True)\n",
    "        df[\"Std\"] = df[observers_1].std(axis=1,skipna=True)\n",
    "        df[\"k_Upper\"] = df.k_Median + df.Std #setting the upper and lower bounds\n",
    "        df[\"k_Lower\"] = df.k_Median - df.Std\n",
    "        #print(df)\n",
    "        reject =1 #updating the condition unless proved otherwise\n",
    "        final_df = pd.DataFrame()\n",
    "        final_df[\"Date\"] = df.index\n",
    "        final_df[\"Median\"] = df[\"k_Median\"].values\n",
    "        #print(final_df)\n",
    "        for idx, row in df.iterrows():\n",
    "            #print(idx)\n",
    "            #print(row)\n",
    "         # Check if the value is within the specified range\n",
    "            for col in df[observers_1]:\n",
    "                #print(row[col],row['k_Lower'],row['k_Upper'])\n",
    "                # Check conditions for each value in the row\n",
    "                if row[col] < row['k_Lower'] or row[col] > row['k_Upper']:\n",
    "                    df.at[idx, col] = np.nan\n",
    "\n",
    "                    reject=0 # If any value is out of range, set rejection flag\n",
    "        \n",
    "        return final_df, Catalog_info\n",
    "    "
   ]
  },
  {
   "cell_type": "code",
   "execution_count": 20,
   "id": "lovely-campbell",
   "metadata": {},
   "outputs": [],
   "source": [
    "final_df, Catalog_info = compute_k_Median(df)"
   ]
  },
  {
   "cell_type": "code",
   "execution_count": 21,
   "id": "touched-cleaners",
   "metadata": {},
   "outputs": [
    {
     "data": {
      "text/html": [
       "<div>\n",
       "<style scoped>\n",
       "    .dataframe tbody tr th:only-of-type {\n",
       "        vertical-align: middle;\n",
       "    }\n",
       "\n",
       "    .dataframe tbody tr th {\n",
       "        vertical-align: top;\n",
       "    }\n",
       "\n",
       "    .dataframe thead th {\n",
       "        text-align: right;\n",
       "    }\n",
       "</style>\n",
       "<table border=\"1\" class=\"dataframe\">\n",
       "  <thead>\n",
       "    <tr style=\"text-align: right;\">\n",
       "      <th></th>\n",
       "      <th>wolf</th>\n",
       "      <th>SN</th>\n",
       "    </tr>\n",
       "  </thead>\n",
       "  <tbody>\n",
       "    <tr>\n",
       "      <th>1</th>\n",
       "      <td>0.998235</td>\n",
       "      <td>1.008053</td>\n",
       "    </tr>\n",
       "  </tbody>\n",
       "</table>\n",
       "</div>"
      ],
      "text/plain": [
       "       wolf        SN\n",
       "1  0.998235  1.008053"
      ]
     },
     "execution_count": 21,
     "metadata": {},
     "output_type": "execute_result"
    }
   ],
   "source": [
    " Catalog_info #for k-factors and number of iterations"
   ]
  },
  {
   "cell_type": "code",
   "execution_count": 22,
   "id": "shared-control",
   "metadata": {},
   "outputs": [
    {
     "data": {
      "text/html": [
       "<div>\n",
       "<style scoped>\n",
       "    .dataframe tbody tr th:only-of-type {\n",
       "        vertical-align: middle;\n",
       "    }\n",
       "\n",
       "    .dataframe tbody tr th {\n",
       "        vertical-align: top;\n",
       "    }\n",
       "\n",
       "    .dataframe thead th {\n",
       "        text-align: right;\n",
       "    }\n",
       "</style>\n",
       "<table border=\"1\" class=\"dataframe\">\n",
       "  <thead>\n",
       "    <tr style=\"text-align: right;\">\n",
       "      <th></th>\n",
       "      <th>Date</th>\n",
       "      <th>Median</th>\n",
       "    </tr>\n",
       "  </thead>\n",
       "  <tbody>\n",
       "    <tr>\n",
       "      <th>0</th>\n",
       "      <td>1825-11-05</td>\n",
       "      <td>11.088578</td>\n",
       "    </tr>\n",
       "    <tr>\n",
       "      <th>1</th>\n",
       "      <td>1825-11-08</td>\n",
       "      <td>11.088578</td>\n",
       "    </tr>\n",
       "    <tr>\n",
       "      <th>2</th>\n",
       "      <td>1825-11-09</td>\n",
       "      <td>11.088578</td>\n",
       "    </tr>\n",
       "    <tr>\n",
       "      <th>3</th>\n",
       "      <td>1825-11-10</td>\n",
       "      <td>11.088578</td>\n",
       "    </tr>\n",
       "    <tr>\n",
       "      <th>4</th>\n",
       "      <td>1825-11-11</td>\n",
       "      <td>11.088578</td>\n",
       "    </tr>\n",
       "  </tbody>\n",
       "</table>\n",
       "</div>"
      ],
      "text/plain": [
       "         Date     Median\n",
       "0  1825-11-05  11.088578\n",
       "1  1825-11-08  11.088578\n",
       "2  1825-11-09  11.088578\n",
       "3  1825-11-10  11.088578\n",
       "4  1825-11-11  11.088578"
      ]
     },
     "execution_count": 22,
     "metadata": {},
     "output_type": "execute_result"
    }
   ],
   "source": [
    "final_df.head() #final median"
   ]
  },
  {
   "cell_type": "code",
   "execution_count": 23,
   "id": "chinese-criticism",
   "metadata": {},
   "outputs": [],
   "source": [
    "final_df.Date = pd.to_datetime(final_df.Date)\n",
    "final_df = final_df.sort_values(\"Date\")"
   ]
  },
  {
   "cell_type": "code",
   "execution_count": 24,
   "id": "accomplished-spirit",
   "metadata": {},
   "outputs": [
    {
     "data": {
      "text/plain": [
       "[<matplotlib.lines.Line2D at 0x27363d93cf8>]"
      ]
     },
     "execution_count": 24,
     "metadata": {},
     "output_type": "execute_result"
    },
    {
     "data": {
      "image/png": "[encoded data removed]",
      "text/plain": [
       "<Figure size 432x288 with 1 Axes>"
      ]
     },
     "metadata": {
      "needs_background": "light"
     },
     "output_type": "display_data"
    }
   ],
   "source": [
    "plt.plot(final_df.Date, final_df.Median)"
   ]
  },
  {
   "cell_type": "code",
   "execution_count": null,
   "id": "automatic-carol",
   "metadata": {},
   "outputs": [],
   "source": []
  }
 ],
 "metadata": {
  "kernelspec": {
   "display_name": "Python3.6Test",
   "language": "python",
   "name": "python3.6test"
  },
  "language_info": {
   "codemirror_mode": {
    "name": "ipython",
    "version": 3
   },
   "file_extension": ".py",
   "mimetype": "text/x-python",
   "name": "python",
   "nbconvert_exporter": "python",
   "pygments_lexer": "ipython3",
   "version": "3.6.10"
  }
 },
 "nbformat": 4,
 "nbformat_minor": 5
}
